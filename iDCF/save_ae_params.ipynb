{
 "cells": [
  {
   "cell_type": "code",
   "execution_count": null,
   "metadata": {
    "collapsed": true
   },
   "outputs": [],
   "source": [
    "from models.vae import *\n",
    "from argparser import *\n",
    "from utils import *\n",
    "from pathlib import Path"
   ]
  },
  {
   "cell_type": "code",
   "execution_count": null,
   "metadata": {},
   "outputs": [],
   "source": [
    "def save_ae_params(data_params, ae_suffix, sr=None, tr=None, seed=1234, source_dir=\"tuned_models/\"):\n",
    "    df = pd.read_csv(data_params[\"train_path\"])\n",
    "    n_users = df[\"user_id\"].max() + 1\n",
    "    n_items = df[\"item_id\"].max() + 1\n",
    "    full_matrix = df_to_csr(df, shape=(n_users, n_items))\n",
    "    full_data = torch.tensor(full_matrix.toarray() > 0, dtype=torch.float)\n",
    "    user_feat = torch.tensor(pd.read_csv(data_params[\"user_feature_path\"]).to_numpy(), dtype=torch.float)\n",
    "\n",
    "    model_type = \"ivae\" if \"ivae\" in ae_suffix else \"vae\"\n",
    "\n",
    "    if data_params[\"name\"] == \"sim\":\n",
    "        sim_suffix = \"_sr_{}_cr_2.0_nr_10.0_tr_{}\".format(sr, tr)\n",
    "        data_params[\"train_path\"] = dir_prefix + \"/data_process/simulation/train{}.csv\".format(sim_suffix)\n",
    "        model_path = \"{}sr_{}_tr_{}/{}_{}\".format(source_dir, sr, tr, data_params[\"name\"], ae_suffix)\n",
    "        dir_name = \"data_process/{}_{}/sr_{}_tr_{}/\".format(data_params[\"name\"], model_type, sr, tr)\n",
    "    else:\n",
    "        model_path = \"{}{}_{}\".format(source_dir, data_params[\"name\"], ae_suffix)\n",
    "        dir_name = \"data_process/{}_{}/\".format(data_params[\"name\"], model_type)\n",
    "    Path(dir_name).mkdir(parents=True, exist_ok=True)\n",
    "\n",
    "    save_name_suffix = \"\"\n",
    "    if \"seed\" in ae_suffix:\n",
    "        save_name_suffix = \"_\" + ae_suffix.split(\"_\")[3]\n",
    "    if model_type == \"ivae\":\n",
    "        prior_mean = True if data_params[\"name\"] == \"sim\" else False\n",
    "        state_dict = torch.load(model_path, map_location=torch.device('cpu'))\n",
    "        hidden_dim = state_dict['mean_z.linear_nets.fc_0.weight'].shape[0]\n",
    "        latent_dim = state_dict['mean_z.linear_nets.fc_2.weight'].shape[0]\n",
    "        ivae_model = iVAE(input_dim=n_items, auxiliary_dim=user_feat.shape[1], latent_dim=latent_dim, hidden_dim=hidden_dim,\n",
    "                          n_layers=3, prior_mean=prior_mean)\n",
    "        ivae_model.load_state_dict(state_dict)\n",
    "        x_hat, mean, log_var, prior_mean, prior_log_var = ivae_model(full_data, user_feat)\n",
    "        torch.save(mean.detach(), dir_name + \"mean{}.pt\".format(save_name_suffix))\n",
    "        torch.save(log_var.detach().exp().sqrt(), dir_name + \"std{}.pt\".format(save_name_suffix))\n",
    "    else:\n",
    "        state_dict = torch.load(model_path, map_location=torch.device('cpu'))\n",
    "        hidden_dim = state_dict['mean_z.linear_nets.fc_0.weight'].shape[0]\n",
    "        latent_dim = state_dict['mean_z.linear_nets.fc_2.weight'].shape[0]\n",
    "        vae_model = VAE(input_dim=n_items, latent_dim=latent_dim, hidden_dim=hidden_dim, n_layers=3)\n",
    "        vae_model.load_state_dict(torch.load(model_path, map_location=torch.device('cpu')))\n",
    "        x_hat, mean, log_var = vae_model(full_data)\n",
    "        torch.save(mean.detach(), dir_name + \"mean{}.pt\".format(save_name_suffix))\n",
    "        torch.save(log_var.detach().exp().sqrt(), dir_name + \"std{}.pt\".format(save_name_suffix))"
   ]
  },
  {
   "cell_type": "code",
   "execution_count": null,
   "metadata": {},
   "outputs": [],
   "source": [
    "save_ae_params(coat_params,\"val_ivae_exposure_best.pt\")"
   ]
  },
  {
   "cell_type": "code",
   "execution_count": null,
   "metadata": {},
   "outputs": [],
   "source": [
    "# data_params = simulation_params\n",
    "# tr = 0.0\n",
    "# sr = 0.1\n",
    "#\n",
    "# if data_params[\"name\"] == \"sim\":\n",
    "#     # for sr in [0.05, 0.1, 0.15, 0.2,:\n",
    "#     for tr in [0.0, 5.0, 10.0, 15.0, 20.0, ]:\n",
    "#         for seed in range(1230, 1240):\n",
    "#             sim_suffix = \"_sr_{}_cr_2.0_nr_10.0_tr_{}\".format(sr, tr)\n",
    "#             data_params[\"train_path\"] = dir_prefix + \"/data_process/simulation/train{}.csv\".format(sim_suffix)\n",
    "#             ivae_suffix = \"val_ivae_{}_exposure_best.pt\".format(seed)\n",
    "#             vae_suffix = \"val_vae_{}_exposure_best.pt\".format(seed)\n",
    "#             save_ae_params(data_params, ivae_suffix, sr, tr, seed=seed)\n",
    "#             save_ae_params(data_params, vae_suffix, sr, tr, seed=seed)\n",
    "\n"
   ]
  }
 ],
 "metadata": {
  "kernelspec": {
   "display_name": "Python 3.7.3 64-bit",
   "language": "python",
   "name": "python3"
  },
  "language_info": {
   "codemirror_mode": {
    "name": "ipython",
    "version": 3
   },
   "file_extension": ".py",
   "mimetype": "text/x-python",
   "name": "python",
   "nbconvert_exporter": "python",
   "pygments_lexer": "ipython3",
   "version": "3.7.3"
  },
  "vscode": {
   "interpreter": {
    "hash": "31f2aee4e71d21fbe5cf8b01ff0e069b9275f58929596ceb00d14d90e3e16cd6"
   }
  }
 },
 "nbformat": 4,
 "nbformat_minor": 0
}
