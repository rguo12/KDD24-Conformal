{
 "cells": [
  {
   "cell_type": "code",
   "execution_count": null,
   "metadata": {
    "collapsed": true
   },
   "outputs": [],
   "source": [
    "import numpy as np\n",
    "import pandas as pd\n",
    "import torch.random\n",
    "from matplotlib import pyplot as plt\n",
    "import sys \n",
    "sys.path.append(\"../..\") \n",
    "from models.vae import *\n",
    "from cal_mcc import mean_corr_coef"
   ]
  },
  {
   "cell_type": "code",
   "execution_count": null,
   "metadata": {
    "collapsed": false
   },
   "outputs": [],
   "source": [
    "np.random.seed(1234)\n",
    "torch.manual_seed(1234)"
   ]
  },
  {
   "cell_type": "code",
   "execution_count": null,
   "metadata": {
    "collapsed": false
   },
   "outputs": [],
   "source": [
    "n_labels = 5\n",
    "sample_size = 2000\n",
    "z_dim = 2\n",
    "x_dim = 300\n",
    "embedding_dim = 16\n",
    "random_item_size = 15\n",
    "sparse_ratio = 0.1\n",
    "rating_noise_ratio = 10.\n",
    "treatment_noise_ratio = 0.\n",
    "confounding_effect_rating = 2.\n",
    "name_suffix = \"_sr_{}_cr_{}_nr_10.0_tr_{}\".format(sparse_ratio, confounding_effect_rating, treatment_noise_ratio)"
   ]
  },
  {
   "cell_type": "code",
   "execution_count": null,
   "metadata": {
    "collapsed": false
   },
   "outputs": [],
   "source": [
    "def gen_confounder(sample_size, label_size, confounder_dim):\n",
    "    mu_true = np.random.uniform(-10, 10, [confounder_dim, label_size])\n",
    "    var_true = np.random.uniform(1, 5, [confounder_dim, label_size])\n",
    "    w_true = np.array(np.tile(np.arange(label_size), int(sample_size / label_size)), dtype=\"int\")\n",
    "    z_true = np.vstack([\n",
    "        np.random.normal(mu_true[i][w_true], np.sqrt(var_true[i][w_true])) for i in range(confounder_dim)\n",
    "    ]).T\n",
    "    return w_true, z_true, mu_true, var_true"
   ]
  },
  {
   "cell_type": "code",
   "execution_count": null,
   "metadata": {
    "collapsed": false
   },
   "outputs": [],
   "source": []
  },
  {
   "cell_type": "code",
   "execution_count": null,
   "metadata": {
    "collapsed": false
   },
   "outputs": [],
   "source": [
    "def gen_treatment(treatment_dim, confounder, emb_z, sparse_ratio, treatment_noise_ratio = 0):\n",
    "    exposure_model = MLP(input_dim=confounder.shape[1], hidden_dims=[treatment_dim, treatment_dim],\n",
    "                         activations=[\"relu\", \"sigmoid\"])\n",
    "    # x_prob = exposure_model(torch.tensor(confounder, dtype=torch.float)).detach() * sparse_ratio\n",
    "    # W = -1 * torch.ones((confounder.shape[1], treatment_dim))\n",
    "    W = 0.3 * torch.rand((confounder.shape[1], confounder.shape[1]))\n",
    "    x_prob = nn.LeakyReLU(0.2)(confounder @ W @ emb_z.T)\n",
    "\n",
    "    x_prob = x_prob \n",
    "    noise = (torch.randn_like(x_prob)) * treatment_noise_ratio\n",
    "    print(x_prob.abs().mean(), noise.abs().mean())\n",
    "    \n",
    "    x_prob += noise\n",
    "    # W = 0.01 * torch.rand((treatment_dim, treatment_dim))\n",
    "    # x_prob = torch.relu(confounder @ emb_z.T @ W)\n",
    "\n",
    "    # plt.show()\n",
    "    x_prob = torch.sigmoid(x_prob) * sparse_ratio\n",
    "    return x_prob, torch.bernoulli(x_prob)"
   ]
  },
  {
   "cell_type": "code",
   "execution_count": null,
   "metadata": {
    "collapsed": false
   },
   "outputs": [],
   "source": []
  },
  {
   "cell_type": "code",
   "execution_count": null,
   "metadata": {
    "collapsed": false
   },
   "outputs": [],
   "source": [
    "def gen_gaussian_embedding(size, embedding_dim, add_bias=False):\n",
    "    emb = torch.randn((size, embedding_dim)) * 5\n",
    "    if add_bias:\n",
    "        bias = torch.randint(4, (size, 1))\n",
    "        emb += bias\n",
    "    return emb\n",
    "\n",
    "\n",
    "def gen_uniform_embedding(size, embedding_dim):\n",
    "    emb = torch.rand((size, embedding_dim))\n",
    "    return emb"
   ]
  },
  {
   "cell_type": "code",
   "execution_count": null,
   "metadata": {
    "collapsed": false
   },
   "outputs": [],
   "source": []
  },
  {
   "cell_type": "code",
   "execution_count": null,
   "metadata": {
    "collapsed": false
   },
   "outputs": [],
   "source": [
    "w_true, z_true, mu_true, var_true = gen_confounder(sample_size, n_labels, z_dim)\n",
    "z_true = torch.tensor(z_true, dtype=torch.float)"
   ]
  },
  {
   "cell_type": "code",
   "execution_count": null,
   "metadata": {
    "collapsed": false
   },
   "outputs": [],
   "source": [
    "emb_u = gen_uniform_embedding(sample_size, embedding_dim)\n",
    "emb_i = gen_gaussian_embedding(x_dim, embedding_dim, add_bias=True)\n",
    "emb_z = gen_uniform_embedding(x_dim, z_dim)"
   ]
  },
  {
   "cell_type": "code",
   "execution_count": null,
   "metadata": {
    "collapsed": false
   },
   "outputs": [],
   "source": [
    "x_prob, x_obs = gen_treatment(x_dim, z_true, emb_z, sparse_ratio, treatment_noise_ratio)"
   ]
  },
  {
   "cell_type": "code",
   "execution_count": null,
   "metadata": {
    "collapsed": false
   },
   "outputs": [],
   "source": [
    "emb_z.shape"
   ]
  },
  {
   "cell_type": "code",
   "execution_count": null,
   "metadata": {
    "collapsed": false
   },
   "outputs": [],
   "source": [
    "x_prob"
   ]
  },
  {
   "cell_type": "code",
   "execution_count": null,
   "metadata": {
    "collapsed": false
   },
   "outputs": [],
   "source": [
    "plt.hist(x_prob.mean(1))"
   ]
  },
  {
   "cell_type": "code",
   "execution_count": null,
   "metadata": {
    "collapsed": false
   },
   "outputs": [],
   "source": [
    "torch.bernoulli(x_prob)"
   ]
  },
  {
   "cell_type": "code",
   "execution_count": null,
   "metadata": {
    "collapsed": false
   },
   "outputs": [],
   "source": [
    "plt.hist(x_obs.sum(1))"
   ]
  },
  {
   "cell_type": "code",
   "execution_count": null,
   "metadata": {},
   "outputs": [],
   "source": [
    "\n",
    "x_obs.sum()/300/2000"
   ]
  },
  {
   "cell_type": "code",
   "execution_count": null,
   "metadata": {},
   "outputs": [],
   "source": [
    "x_obs.sum(1).mean()"
   ]
  },
  {
   "cell_type": "code",
   "execution_count": null,
   "metadata": {
    "collapsed": false
   },
   "outputs": [],
   "source": [
    "x_obs.sum(1).min()"
   ]
  },
  {
   "cell_type": "code",
   "execution_count": null,
   "metadata": {
    "collapsed": false
   },
   "outputs": [],
   "source": [
    "x_obs.sum(0).min()"
   ]
  },
  {
   "cell_type": "code",
   "execution_count": null,
   "metadata": {
    "collapsed": false
   },
   "outputs": [],
   "source": [
    "exp_effect = emb_u @ emb_i.T\n",
    "confounder_effect = z_true @ emb_z.T * confounding_effect_rating\n",
    "noise = torch.randn((sample_size, x_dim)) * rating_noise_ratio\n",
    "\n",
    "mf_res = exp_effect + confounder_effect + noise\n",
    "# soft_mf_res = torch.pow((mf_res - mf_res.min()) / (mf_res.max() - mf_res.min()), 0.6)\n",
    "soft_mf_res = torch.pow(\n",
    "    (mf_res - torch.quantile(mf_res, 0.05)) / (torch.quantile(mf_res, 0.95) - torch.quantile(mf_res, 0.05)), 1)\n",
    "\n",
    "# soft_mf_res = torch.sigmoid(mf_res)\n",
    "rating_matrix = torch.ceil(soft_mf_res * 5)\n",
    "rating_matrix[rating_matrix > 5] = 5\n",
    "rating_matrix[rating_matrix < 1] = 1"
   ]
  },
  {
   "cell_type": "code",
   "execution_count": null,
   "metadata": {
    "collapsed": false
   },
   "outputs": [],
   "source": [
    "plt.hist(exp_effect.abs().mean(1))"
   ]
  },
  {
   "cell_type": "code",
   "execution_count": null,
   "metadata": {
    "collapsed": false
   },
   "outputs": [],
   "source": [
    "plt.hist(confounder_effect.abs().mean(1))"
   ]
  },
  {
   "cell_type": "code",
   "execution_count": null,
   "metadata": {
    "collapsed": false
   },
   "outputs": [],
   "source": [
    "plt.hist(noise.abs().mean(1))"
   ]
  },
  {
   "cell_type": "code",
   "execution_count": null,
   "metadata": {
    "collapsed": false
   },
   "outputs": [],
   "source": [
    "x_obs"
   ]
  },
  {
   "cell_type": "code",
   "execution_count": null,
   "metadata": {
    "collapsed": false
   },
   "outputs": [],
   "source": [
    "rating_matrix"
   ]
  },
  {
   "cell_type": "code",
   "execution_count": null,
   "metadata": {
    "collapsed": false
   },
   "outputs": [],
   "source": [
    "rating_matrix.mean(0)"
   ]
  },
  {
   "cell_type": "code",
   "execution_count": null,
   "metadata": {
    "collapsed": false
   },
   "outputs": [],
   "source": [
    "uids, iids = x_obs.nonzero(as_tuple=True)\n",
    "ratings = rating_matrix[uids, iids]"
   ]
  },
  {
   "cell_type": "code",
   "execution_count": null,
   "metadata": {
    "collapsed": false
   },
   "outputs": [],
   "source": [
    "uids.unique().size()"
   ]
  },
  {
   "cell_type": "code",
   "execution_count": null,
   "metadata": {
    "collapsed": false
   },
   "outputs": [],
   "source": [
    "random_iids_list = list()\n",
    "for i in range(sample_size):\n",
    "    random_iids_list.append(torch.randperm(x_dim)[:random_item_size])\n",
    "random_iids = torch.cat(random_iids_list)\n",
    "random_uids = torch.arange(0, sample_size).view(-1, 1).repeat(1, random_item_size).view(-1)\n",
    "random_ratings = rating_matrix[random_uids, random_iids]\n"
   ]
  },
  {
   "cell_type": "code",
   "execution_count": null,
   "metadata": {
    "collapsed": false
   },
   "outputs": [],
   "source": []
  },
  {
   "cell_type": "code",
   "execution_count": null,
   "metadata": {
    "collapsed": false
   },
   "outputs": [],
   "source": [
    "def save_csv(uids, iids, ratings, name):\n",
    "    df = pd.DataFrame(\n",
    "        data={\"user_id\": uids, \"item_id\": iids, \"rating\": ratings}\n",
    "    )\n",
    "    df.to_csv(name, sep=\",\", index=None)\n",
    "    return df"
   ]
  },
  {
   "cell_type": "code",
   "execution_count": null,
   "metadata": {
    "collapsed": false
   },
   "outputs": [],
   "source": [
    "df_train = save_csv(uids, iids, ratings, \"train{}.csv\".format(name_suffix))"
   ]
  },
  {
   "cell_type": "code",
   "execution_count": null,
   "metadata": {
    "collapsed": false
   },
   "outputs": [],
   "source": [
    "df_random = save_csv(random_uids, random_iids, random_ratings, \"random{}.csv\".format(name_suffix))"
   ]
  },
  {
   "cell_type": "code",
   "execution_count": null,
   "metadata": {
    "collapsed": false
   },
   "outputs": [],
   "source": [
    "user_feat_onehot = pd.get_dummies(w_true)"
   ]
  },
  {
   "cell_type": "code",
   "execution_count": null,
   "metadata": {},
   "outputs": [],
   "source": [
    "pd.Series(w_true).to_csv(\"user_feat_label.csv\", index=None)"
   ]
  },
  {
   "cell_type": "code",
   "execution_count": null,
   "metadata": {
    "collapsed": false
   },
   "outputs": [],
   "source": [
    "user_feat_onehot.to_csv(\"user_feat_onehot.csv\", index=None)"
   ]
  },
  {
   "cell_type": "code",
   "execution_count": null,
   "metadata": {
    "collapsed": false
   },
   "outputs": [],
   "source": [
    "w_true"
   ]
  },
  {
   "cell_type": "code",
   "execution_count": null,
   "metadata": {
    "collapsed": false
   },
   "outputs": [],
   "source": [
    "# plt.hist(mf_res.view(-1))"
   ]
  },
  {
   "cell_type": "code",
   "execution_count": null,
   "metadata": {
    "collapsed": false
   },
   "outputs": [],
   "source": [
    "# plt.hist(soft_mf_res.view(-1))"
   ]
  },
  {
   "cell_type": "code",
   "execution_count": null,
   "metadata": {
    "collapsed": false
   },
   "outputs": [],
   "source": [
    "df_train[\"rating\"].describe()"
   ]
  },
  {
   "cell_type": "code",
   "execution_count": null,
   "metadata": {
    "collapsed": false
   },
   "outputs": [],
   "source": [
    "df_train[\"rating\"].hist()"
   ]
  },
  {
   "cell_type": "code",
   "execution_count": null,
   "metadata": {
    "collapsed": false
   },
   "outputs": [],
   "source": [
    "df_random[\"rating\"].hist()"
   ]
  },
  {
   "cell_type": "code",
   "execution_count": null,
   "metadata": {},
   "outputs": [],
   "source": [
    "df_random[\"rating\"].value_counts()"
   ]
  },
  {
   "cell_type": "code",
   "execution_count": null,
   "metadata": {
    "collapsed": false
   },
   "outputs": [],
   "source": []
  },
  {
   "cell_type": "code",
   "execution_count": null,
   "metadata": {
    "collapsed": false
   },
   "outputs": [],
   "source": []
  },
  {
   "cell_type": "code",
   "execution_count": null,
   "metadata": {
    "collapsed": false
   },
   "outputs": [],
   "source": []
  },
  {
   "cell_type": "code",
   "execution_count": null,
   "metadata": {
    "collapsed": false
   },
   "outputs": [],
   "source": []
  },
  {
   "cell_type": "code",
   "execution_count": null,
   "outputs": [],
   "source": [
    "vae_z_mean = torch.load(\"../sim_vae/sr_0.1_tr_0.0/mean.pt\")\n",
    "ivae_z_mean = torch.load(\"../sim_ivae/sr_0.1_tr_0.0/mean.pt\")\n",
    "plt.figure(figsize=(12, 12))\n",
    "ax1 = plt.subplot(2, 2, 1)\n",
    "ax1.set_title(\"True 2-dim latent\")\n",
    "plt.scatter(z_true.T[0], z_true.T[1], c=w_true, s=1)\n",
    "ax2 = plt.subplot(2, 2, 2)\n",
    "ax2.set_title(\"VAE\")\n",
    "plt.scatter(vae_z_mean.T[0].detach().numpy(), vae_z_mean.T[1].detach().numpy(), c=w_true, s=1)\n",
    "ax3 = plt.subplot(2, 2, 3)\n",
    "ax3.set_title(\"iVAE\")\n",
    "plt.scatter(ivae_z_mean.T[0].detach().numpy(), ivae_z_mean.T[1].detach().numpy(), c=w_true, s=1)\n",
    "print(mean_corr_coef(z_true, vae_z_mean).item())\n",
    "print(mean_corr_coef(z_true, ivae_z_mean).item())"
   ],
   "metadata": {
    "collapsed": false
   }
  },
  {
   "cell_type": "code",
   "execution_count": null,
   "metadata": {
    "collapsed": false
   },
   "outputs": [],
   "source": []
  },
  {
   "cell_type": "code",
   "execution_count": null,
   "metadata": {
    "collapsed": false
   },
   "outputs": [],
   "source": []
  }
 ],
 "metadata": {
  "kernelspec": {
   "display_name": "Python 3.7.3 64-bit",
   "language": "python",
   "name": "python3"
  },
  "language_info": {
   "codemirror_mode": {
    "name": "ipython",
    "version": 3
   },
   "file_extension": ".py",
   "mimetype": "text/x-python",
   "name": "python",
   "nbconvert_exporter": "python",
   "pygments_lexer": "ipython3",
   "version": "3.7.3"
  },
  "vscode": {
   "interpreter": {
    "hash": "31f2aee4e71d21fbe5cf8b01ff0e069b9275f58929596ceb00d14d90e3e16cd6"
   }
  }
 },
 "nbformat": 4,
 "nbformat_minor": 0
}
