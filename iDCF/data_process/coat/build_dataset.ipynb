{
 "cells": [
  {
   "cell_type": "code",
   "execution_count": null,
   "outputs": [],
   "source": [
    "import torch\n",
    "import numpy as np\n",
    "import pandas as pd\n",
    "from scipy.sparse import csr_matrix"
   ],
   "metadata": {
    "collapsed": false
   }
  },
  {
   "cell_type": "code",
   "execution_count": null,
   "outputs": [],
   "source": [
    "train_table_raw = pd.read_table(\"train.ascii\", sep=\" \", header=None)\n",
    "test_table_raw = pd.read_table(\"test.ascii\", sep=\" \", header=None)\n",
    "user_feature = pd.read_table(\"user_item_features/user_features.ascii\", sep=\" \", header=None)\n",
    "item_feature = pd.read_table(\"user_item_features/item_features.ascii\", sep=\" \", header=None)"
   ],
   "metadata": {
    "collapsed": false
   }
  },
  {
   "cell_type": "code",
   "execution_count": null,
   "outputs": [],
   "source": [
    "train_array = train_table_raw.to_numpy()\n",
    "test_array = test_table_raw.to_numpy()\n",
    "user_feature_array = user_feature.to_numpy()\n",
    "item_feature_array = item_feature.to_numpy()"
   ],
   "metadata": {
    "collapsed": false
   }
  },
  {
   "cell_type": "code",
   "execution_count": null,
   "outputs": [],
   "source": [
    "def to_df(data_matrix):\n",
    "    user_id, item_id = data_matrix.nonzero()\n",
    "    rating = data_matrix[user_id, item_id]\n",
    "    data = np.concatenate(\n",
    "        (user_id.reshape(-1, 1),\n",
    "         item_id.reshape(-1, 1),\n",
    "         rating.reshape(-1, 1)),\n",
    "        axis=1)\n",
    "    return pd.DataFrame(data, columns=[\"user_id\", \"item_id\", \"rating\"])"
   ],
   "metadata": {
    "collapsed": false
   }
  },
  {
   "cell_type": "code",
   "execution_count": null,
   "outputs": [],
   "source": [
    "train_df = to_df(train_array)\n",
    "random_df = to_df(test_array)"
   ],
   "metadata": {
    "collapsed": false
   }
  },
  {
   "cell_type": "code",
   "execution_count": null,
   "outputs": [],
   "source": [
    "train_df.to_csv(\"train.csv\", index=False)\n",
    "random_df.to_csv(\"random.csv\", index=False)"
   ],
   "metadata": {
    "collapsed": false
   }
  },
  {
   "cell_type": "code",
   "execution_count": null,
   "outputs": [],
   "source": [
    "pd.read_csv(\"train.csv\")"
   ],
   "metadata": {
    "collapsed": false
   }
  },
  {
   "cell_type": "code",
   "execution_count": null,
   "outputs": [],
   "source": [],
   "metadata": {
    "collapsed": false
   }
  },
  {
   "cell_type": "code",
   "execution_count": null,
   "outputs": [],
   "source": [
    "user_gender_id = np.nonzero(user_feature_array[:, 0:2])[1]\n",
    "age_id = np.nonzero(user_feature_array[:, 2:8])[1]\n",
    "location_id = np.nonzero(user_feature_array[:, 8:11])[1]\n",
    "fashioninterest_id = np.nonzero(user_feature_array[:, 11:14])[1]"
   ],
   "metadata": {
    "collapsed": false
   }
  },
  {
   "cell_type": "code",
   "execution_count": null,
   "outputs": [],
   "source": [
    "user_feature = np.concatenate(\n",
    "    (\n",
    "        user_gender_id.reshape(-1, 1),\n",
    "        age_id.reshape(-1, 1),\n",
    "        location_id.reshape(-1, 1),\n",
    "        fashioninterest_id.reshape(-1, 1)\n",
    "    ),\n",
    "    axis=1\n",
    ")"
   ],
   "metadata": {
    "collapsed": false
   }
  },
  {
   "cell_type": "code",
   "execution_count": null,
   "outputs": [],
   "source": [
    "user_feature"
   ],
   "metadata": {
    "collapsed": false
   }
  },
  {
   "cell_type": "code",
   "execution_count": null,
   "outputs": [],
   "source": [
    "pd.DataFrame(user_feature_array).to_csv(\"user_feat_onehot.csv\", index=False)\n",
    "pd.DataFrame(user_feature).to_csv(\"user_feat_label.csv\", index=False)\n"
   ],
   "metadata": {
    "collapsed": false
   }
  }
 ],
 "metadata": {
  "kernelspec": {
   "display_name": "Python 3",
   "language": "python",
   "name": "python3"
  },
  "language_info": {
   "codemirror_mode": {
    "name": "ipython",
    "version": 2
   },
   "file_extension": ".py",
   "mimetype": "text/x-python",
   "name": "python",
   "nbconvert_exporter": "python",
   "pygments_lexer": "ipython2",
   "version": "2.7.6"
  }
 },
 "nbformat": 4,
 "nbformat_minor": 0
}
